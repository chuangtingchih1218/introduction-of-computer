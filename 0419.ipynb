{
  "nbformat": 4,
  "nbformat_minor": 0,
  "metadata": {
    "colab": {
      "name": "0419.ipynb",
      "provenance": [],
      "authorship_tag": "ABX9TyPvO9GTTU25IFcIHli8gsy4",
      "include_colab_link": true
    },
    "kernelspec": {
      "name": "python3",
      "display_name": "Python 3"
    },
    "language_info": {
      "name": "python"
    }
  },
  "cells": [
    {
      "cell_type": "markdown",
      "metadata": {
        "id": "view-in-github",
        "colab_type": "text"
      },
      "source": [
        "<a href=\"https://colab.research.google.com/github/chuangtingchih1218/introduction-of-computer/blob/main/0419.ipynb\" target=\"_parent\"><img src=\"https://colab.research.google.com/assets/colab-badge.svg\" alt=\"Open In Colab\"/></a>"
      ]
    },
    {
      "cell_type": "code",
      "execution_count": 15,
      "metadata": {
        "colab": {
          "base_uri": "https://localhost:8080/"
        },
        "id": "ksLWjUPIsgUM",
        "outputId": "7d62e0dd-e94d-48e9-99fe-c82e5ffd43c0"
      },
      "outputs": [
        {
          "output_type": "stream",
          "name": "stdout",
          "text": [
            "請輸入業績4999\n",
            "249.95000000000002\n"
          ]
        }
      ],
      "source": [
        "sales=int(input('請輸入業績'))\n",
        "if(sales>=5000):\n",
        "  print(sales*0.1)\n",
        "else:\n",
        "  print(sales*0.05)"
      ]
    },
    {
      "cell_type": "code",
      "source": [
        "chinese=int(input('國文成績:'))\n",
        "math=int(input('數學成績:'))\n",
        "english=int(input('英文成績:'))\n",
        "attend=int(input('出席次數:'))\n",
        "\n",
        "all_score=chinese*0.35+math*0.35+english*0.30\n",
        "if all_score>=60 and attend>=10:\n",
        "  print(\"小明的學期成績:{0}分，恭喜及格\".format(all_score))\n",
        "else:\n",
        "  print(\"小明的學期成績:{0}分，重修就好喔\".format(all_score))"
      ],
      "metadata": {
        "colab": {
          "base_uri": "https://localhost:8080/"
        },
        "id": "pbpzoNF2uwoj",
        "outputId": "2310fcbe-18f6-4504-85c4-a1e7458ae10d"
      },
      "execution_count": 19,
      "outputs": [
        {
          "output_type": "stream",
          "name": "stdout",
          "text": [
            "國文成績:60\n",
            "數學成績:70\n",
            "英文成績:90\n",
            "出席次數:11\n",
            "小明的學期成績:72.5分，恭喜及格\n"
          ]
        }
      ]
    },
    {
      "cell_type": "markdown",
      "source": [
        "請輸入業績"
      ],
      "metadata": {
        "id": "j_8TkmhYsx7G"
      }
    }
  ]
}