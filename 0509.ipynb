{
  "nbformat": 4,
  "nbformat_minor": 0,
  "metadata": {
    "colab": {
      "name": "0509.ipynb",
      "provenance": [],
      "authorship_tag": "ABX9TyOOhHvHxyIA6+2/JgL0UAv7",
      "include_colab_link": true
    },
    "kernelspec": {
      "name": "python3",
      "display_name": "Python 3"
    },
    "language_info": {
      "name": "python"
    }
  },
  "cells": [
    {
      "cell_type": "markdown",
      "metadata": {
        "id": "view-in-github",
        "colab_type": "text"
      },
      "source": [
        "<a href=\"https://colab.research.google.com/github/chuangtingchih1218/introduction-of-computer/blob/main/0509.ipynb\" target=\"_parent\"><img src=\"https://colab.research.google.com/assets/colab-badge.svg\" alt=\"Open In Colab\"/></a>"
      ]
    },
    {
      "cell_type": "code",
      "execution_count": 1,
      "metadata": {
        "colab": {
          "base_uri": "https://localhost:8080/"
        },
        "id": "R_qvAsYa7uDH",
        "outputId": "dd0934b2-4c74-4d30-e420-9ad463e90ff8"
      },
      "outputs": [
        {
          "output_type": "stream",
          "name": "stdout",
          "text": [
            "123\n"
          ]
        }
      ],
      "source": [
        "print(\"123\")\n"
      ]
    },
    {
      "cell_type": "code",
      "source": [
        "temp=float(input(\"請輸入你的體溫\"))\n",
        "if temp >=37.5:\n",
        "  print(\"體溫過高\")\n",
        "elif temp >=37 and temp <37.4:\n",
        "  print(\"體溫略高!\")\n",
        "elif temp >=34 and temp <36.9:\n",
        "  print(\"體溫正常!\")\n",
        "else:\n",
        "  print(\"體溫過高，請重新量測!\")"
      ],
      "metadata": {
        "colab": {
          "base_uri": "https://localhost:8080/"
        },
        "id": "vyvTfhVs85BX",
        "outputId": "08082f16-3199-428e-901e-d4a37b3d5a78"
      },
      "execution_count": 2,
      "outputs": [
        {
          "output_type": "stream",
          "name": "stdout",
          "text": [
            "請輸入你的體溫37.1\n",
            "體溫略高!\n"
          ]
        }
      ]
    },
    {
      "cell_type": "code",
      "source": [
        "score=input(\"請輸入成績\")\n",
        "if(int(score)>=90):\n",
        "  print(\"A\")\n",
        "if(int(score)>=80):\n",
        "  print(\"B\")\n",
        "if(int(score)>=70):\n",
        "  print(\"C\")\n",
        "if(int(score)>=60):\n",
        "  print(\"D\")\n",
        "else:\n",
        "  print(\"E\")"
      ],
      "metadata": {
        "colab": {
          "base_uri": "https://localhost:8080/"
        },
        "id": "SJWdlA9MEN17",
        "outputId": "9c8e10e0-6a70-4e00-dc4c-54f5dade7a1c"
      },
      "execution_count": 3,
      "outputs": [
        {
          "output_type": "stream",
          "name": "stdout",
          "text": [
            "請輸入成績50\n",
            "E\n"
          ]
        }
      ]
    },
    {
      "cell_type": "code",
      "source": [
        "money=int(input(\"請輸入購物金額:\"))\n",
        "if (money >= 10000):\n",
        "  if (money >= 100000):\n",
        "    print(\"八折\",money*0.8,end=\"元/n\")\n",
        "  elif(money>=50000):\n",
        "    print(\"八五折\",money*0.85,end=\"元\\n\")\n",
        "  elif(money>=30000):\n",
        "    print(\"九折\",money*0.9,end=\"元\\n\")\n",
        "  else:\n",
        "    print(\"九五折\",money*0.95,end=\"元\\n\")\n",
        "else:\n",
        "  print(\"沒打折\",money,end=\"元/n\")"
      ],
      "metadata": {
        "colab": {
          "base_uri": "https://localhost:8080/"
        },
        "id": "KvKa0p7hE5vV",
        "outputId": "125b0e79-4f52-42db-e8af-295c71e5bed0"
      },
      "execution_count": 2,
      "outputs": [
        {
          "output_type": "stream",
          "name": "stdout",
          "text": [
            "請輸入購物金額:50000\n",
            "八五折 42500.0元\n"
          ]
        }
      ]
    },
    {
      "cell_type": "code",
      "source": [
        "month=int(input(\"請輸入月份:\"))\n",
        "if (month >=1):\n",
        "  if (month >= 3 and month <= 5):\n",
        "    print(month,\"月是春天!\")\n",
        "  elif(month >=6 and month <=8):\n",
        "    print(month,\"月是夏天!\")\n",
        "  elif(month >=9 and month <=11):\n",
        "    print(month,\"月是秋天!\")\n",
        "  elif(month >=12 and month<=2):\n",
        "    print(month,\"月是冬天\")\n",
        "  else:\n",
        "    print(\"月份不再範圍內!\")  "
      ],
      "metadata": {
        "id": "JVvQFyyYQjcO",
        "outputId": "0d2cd358-8a4d-484c-cac5-46be3ef03094",
        "colab": {
          "base_uri": "https://localhost:8080/"
        }
      },
      "execution_count": 27,
      "outputs": [
        {
          "output_type": "stream",
          "name": "stdout",
          "text": [
            "請輸入月份:14\n",
            "月份不再範圍內!\n"
          ]
        }
      ]
    },
    {
      "cell_type": "code",
      "source": [
        "income=int(input(\"請輸入今年收入淨額:\"))\n",
        "if (income>=1):\n",
        "  if (income>=300000):\n",
        "    print(\"付稅金額:\",income*0.06,\"元\")\n",
        "  elif (income>=600000):\n",
        "    print(\"付稅金額:\",income*0.13,\"元\")\n",
        "  elif (income>=1000000):\n",
        "    print(\"付稅金額:\",income*0.21,\"元\")\n",
        "  elif (income>=2000000):\n",
        "    print(\"付稅金額:\",income*0.3,\"元\")\n",
        "  else:\n",
        "    print(\"付稅金額:0元\")"
      ],
      "metadata": {
        "id": "gPcv-qTPUTy9",
        "outputId": "87701935-c46e-4fb7-82ac-4b3aa8251750",
        "colab": {
          "base_uri": "https://localhost:8080/"
        }
      },
      "execution_count": 29,
      "outputs": [
        {
          "output_type": "stream",
          "name": "stdout",
          "text": [
            "請輸入今年收入淨額:300000\n",
            "付稅金額: 18000.0 元\n"
          ]
        }
      ]
    }
  ]
}